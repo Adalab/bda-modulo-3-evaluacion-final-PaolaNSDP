{
 "cells": [
  {
   "cell_type": "code",
   "execution_count": 2,
   "metadata": {},
   "outputs": [],
   "source": [
    "## Importacion de las librerias\n",
    "import pandas as pd\n",
    "import numpy as np\n",
    "import matplotlib.pyplot as plt\n",
    "import seaborn as sns"
   ]
  },
  {
   "cell_type": "code",
   "execution_count": 3,
   "metadata": {},
   "outputs": [],
   "source": [
    "pd.set_option('display.max_columns', None) # para poder visualizar todas las columnas de los DataFrames"
   ]
  },
  {
   "cell_type": "code",
   "execution_count": 4,
   "metadata": {},
   "outputs": [
    {
     "data": {
      "text/html": [
       "<div>\n",
       "<style scoped>\n",
       "    .dataframe tbody tr th:only-of-type {\n",
       "        vertical-align: middle;\n",
       "    }\n",
       "\n",
       "    .dataframe tbody tr th {\n",
       "        vertical-align: top;\n",
       "    }\n",
       "\n",
       "    .dataframe thead th {\n",
       "        text-align: right;\n",
       "    }\n",
       "</style>\n",
       "<table border=\"1\" class=\"dataframe\">\n",
       "  <thead>\n",
       "    <tr style=\"text-align: right;\">\n",
       "      <th></th>\n",
       "      <th>Loyalty Number</th>\n",
       "      <th>Year</th>\n",
       "      <th>Month</th>\n",
       "      <th>Flights Booked</th>\n",
       "      <th>Flights with Companions</th>\n",
       "      <th>Total Flights</th>\n",
       "      <th>Distance</th>\n",
       "      <th>Points Accumulated</th>\n",
       "      <th>Points Redeemed</th>\n",
       "      <th>Dollar Cost Points Redeemed</th>\n",
       "    </tr>\n",
       "  </thead>\n",
       "  <tbody>\n",
       "    <tr>\n",
       "      <th>0</th>\n",
       "      <td>100018</td>\n",
       "      <td>2017</td>\n",
       "      <td>1</td>\n",
       "      <td>3</td>\n",
       "      <td>0</td>\n",
       "      <td>3</td>\n",
       "      <td>1521</td>\n",
       "      <td>152.0</td>\n",
       "      <td>0</td>\n",
       "      <td>0</td>\n",
       "    </tr>\n",
       "    <tr>\n",
       "      <th>1</th>\n",
       "      <td>100102</td>\n",
       "      <td>2017</td>\n",
       "      <td>1</td>\n",
       "      <td>10</td>\n",
       "      <td>4</td>\n",
       "      <td>14</td>\n",
       "      <td>2030</td>\n",
       "      <td>203.0</td>\n",
       "      <td>0</td>\n",
       "      <td>0</td>\n",
       "    </tr>\n",
       "    <tr>\n",
       "      <th>2</th>\n",
       "      <td>100140</td>\n",
       "      <td>2017</td>\n",
       "      <td>1</td>\n",
       "      <td>6</td>\n",
       "      <td>0</td>\n",
       "      <td>6</td>\n",
       "      <td>1200</td>\n",
       "      <td>120.0</td>\n",
       "      <td>0</td>\n",
       "      <td>0</td>\n",
       "    </tr>\n",
       "    <tr>\n",
       "      <th>3</th>\n",
       "      <td>100214</td>\n",
       "      <td>2017</td>\n",
       "      <td>1</td>\n",
       "      <td>0</td>\n",
       "      <td>0</td>\n",
       "      <td>0</td>\n",
       "      <td>0</td>\n",
       "      <td>0.0</td>\n",
       "      <td>0</td>\n",
       "      <td>0</td>\n",
       "    </tr>\n",
       "    <tr>\n",
       "      <th>4</th>\n",
       "      <td>100272</td>\n",
       "      <td>2017</td>\n",
       "      <td>1</td>\n",
       "      <td>0</td>\n",
       "      <td>0</td>\n",
       "      <td>0</td>\n",
       "      <td>0</td>\n",
       "      <td>0.0</td>\n",
       "      <td>0</td>\n",
       "      <td>0</td>\n",
       "    </tr>\n",
       "  </tbody>\n",
       "</table>\n",
       "</div>"
      ],
      "text/plain": [
       "   Loyalty Number  Year  Month  Flights Booked  Flights with Companions  \\\n",
       "0          100018  2017      1               3                        0   \n",
       "1          100102  2017      1              10                        4   \n",
       "2          100140  2017      1               6                        0   \n",
       "3          100214  2017      1               0                        0   \n",
       "4          100272  2017      1               0                        0   \n",
       "\n",
       "   Total Flights  Distance  Points Accumulated  Points Redeemed  \\\n",
       "0              3      1521               152.0                0   \n",
       "1             14      2030               203.0                0   \n",
       "2              6      1200               120.0                0   \n",
       "3              0         0                 0.0                0   \n",
       "4              0         0                 0.0                0   \n",
       "\n",
       "   Dollar Cost Points Redeemed  \n",
       "0                            0  \n",
       "1                            0  \n",
       "2                            0  \n",
       "3                            0  \n",
       "4                            0  "
      ]
     },
     "execution_count": 4,
     "metadata": {},
     "output_type": "execute_result"
    }
   ],
   "source": [
    "# Lectura de los archivos csv\n",
    "df_flight_activity = pd.read_csv('./files/Customer Flight Activity.csv')\n",
    "df_flight_activity.head()"
   ]
  },
  {
   "cell_type": "code",
   "execution_count": 5,
   "metadata": {},
   "outputs": [
    {
     "data": {
      "text/html": [
       "<div>\n",
       "<style scoped>\n",
       "    .dataframe tbody tr th:only-of-type {\n",
       "        vertical-align: middle;\n",
       "    }\n",
       "\n",
       "    .dataframe tbody tr th {\n",
       "        vertical-align: top;\n",
       "    }\n",
       "\n",
       "    .dataframe thead th {\n",
       "        text-align: right;\n",
       "    }\n",
       "</style>\n",
       "<table border=\"1\" class=\"dataframe\">\n",
       "  <thead>\n",
       "    <tr style=\"text-align: right;\">\n",
       "      <th></th>\n",
       "      <th>Loyalty Number</th>\n",
       "      <th>Country</th>\n",
       "      <th>Province</th>\n",
       "      <th>City</th>\n",
       "      <th>Postal Code</th>\n",
       "      <th>Gender</th>\n",
       "      <th>Education</th>\n",
       "      <th>Salary</th>\n",
       "      <th>Marital Status</th>\n",
       "      <th>Loyalty Card</th>\n",
       "      <th>CLV</th>\n",
       "      <th>Enrollment Type</th>\n",
       "      <th>Enrollment Year</th>\n",
       "      <th>Enrollment Month</th>\n",
       "      <th>Cancellation Year</th>\n",
       "      <th>Cancellation Month</th>\n",
       "    </tr>\n",
       "  </thead>\n",
       "  <tbody>\n",
       "    <tr>\n",
       "      <th>0</th>\n",
       "      <td>480934</td>\n",
       "      <td>Canada</td>\n",
       "      <td>Ontario</td>\n",
       "      <td>Toronto</td>\n",
       "      <td>M2Z 4K1</td>\n",
       "      <td>Female</td>\n",
       "      <td>Bachelor</td>\n",
       "      <td>83236.0</td>\n",
       "      <td>Married</td>\n",
       "      <td>Star</td>\n",
       "      <td>3839.14</td>\n",
       "      <td>Standard</td>\n",
       "      <td>2016</td>\n",
       "      <td>2</td>\n",
       "      <td>NaN</td>\n",
       "      <td>NaN</td>\n",
       "    </tr>\n",
       "    <tr>\n",
       "      <th>1</th>\n",
       "      <td>549612</td>\n",
       "      <td>Canada</td>\n",
       "      <td>Alberta</td>\n",
       "      <td>Edmonton</td>\n",
       "      <td>T3G 6Y6</td>\n",
       "      <td>Male</td>\n",
       "      <td>College</td>\n",
       "      <td>NaN</td>\n",
       "      <td>Divorced</td>\n",
       "      <td>Star</td>\n",
       "      <td>3839.61</td>\n",
       "      <td>Standard</td>\n",
       "      <td>2016</td>\n",
       "      <td>3</td>\n",
       "      <td>NaN</td>\n",
       "      <td>NaN</td>\n",
       "    </tr>\n",
       "    <tr>\n",
       "      <th>2</th>\n",
       "      <td>429460</td>\n",
       "      <td>Canada</td>\n",
       "      <td>British Columbia</td>\n",
       "      <td>Vancouver</td>\n",
       "      <td>V6E 3D9</td>\n",
       "      <td>Male</td>\n",
       "      <td>College</td>\n",
       "      <td>NaN</td>\n",
       "      <td>Single</td>\n",
       "      <td>Star</td>\n",
       "      <td>3839.75</td>\n",
       "      <td>Standard</td>\n",
       "      <td>2014</td>\n",
       "      <td>7</td>\n",
       "      <td>2018.0</td>\n",
       "      <td>1.0</td>\n",
       "    </tr>\n",
       "    <tr>\n",
       "      <th>3</th>\n",
       "      <td>608370</td>\n",
       "      <td>Canada</td>\n",
       "      <td>Ontario</td>\n",
       "      <td>Toronto</td>\n",
       "      <td>P1W 1K4</td>\n",
       "      <td>Male</td>\n",
       "      <td>College</td>\n",
       "      <td>NaN</td>\n",
       "      <td>Single</td>\n",
       "      <td>Star</td>\n",
       "      <td>3839.75</td>\n",
       "      <td>Standard</td>\n",
       "      <td>2013</td>\n",
       "      <td>2</td>\n",
       "      <td>NaN</td>\n",
       "      <td>NaN</td>\n",
       "    </tr>\n",
       "    <tr>\n",
       "      <th>4</th>\n",
       "      <td>530508</td>\n",
       "      <td>Canada</td>\n",
       "      <td>Quebec</td>\n",
       "      <td>Hull</td>\n",
       "      <td>J8Y 3Z5</td>\n",
       "      <td>Male</td>\n",
       "      <td>Bachelor</td>\n",
       "      <td>103495.0</td>\n",
       "      <td>Married</td>\n",
       "      <td>Star</td>\n",
       "      <td>3842.79</td>\n",
       "      <td>Standard</td>\n",
       "      <td>2014</td>\n",
       "      <td>10</td>\n",
       "      <td>NaN</td>\n",
       "      <td>NaN</td>\n",
       "    </tr>\n",
       "  </tbody>\n",
       "</table>\n",
       "</div>"
      ],
      "text/plain": [
       "   Loyalty Number Country          Province       City Postal Code  Gender  \\\n",
       "0          480934  Canada           Ontario    Toronto     M2Z 4K1  Female   \n",
       "1          549612  Canada           Alberta   Edmonton     T3G 6Y6    Male   \n",
       "2          429460  Canada  British Columbia  Vancouver     V6E 3D9    Male   \n",
       "3          608370  Canada           Ontario    Toronto     P1W 1K4    Male   \n",
       "4          530508  Canada            Quebec       Hull     J8Y 3Z5    Male   \n",
       "\n",
       "  Education    Salary Marital Status Loyalty Card      CLV Enrollment Type  \\\n",
       "0  Bachelor   83236.0        Married         Star  3839.14        Standard   \n",
       "1   College       NaN       Divorced         Star  3839.61        Standard   \n",
       "2   College       NaN         Single         Star  3839.75        Standard   \n",
       "3   College       NaN         Single         Star  3839.75        Standard   \n",
       "4  Bachelor  103495.0        Married         Star  3842.79        Standard   \n",
       "\n",
       "   Enrollment Year  Enrollment Month  Cancellation Year  Cancellation Month  \n",
       "0             2016                 2                NaN                 NaN  \n",
       "1             2016                 3                NaN                 NaN  \n",
       "2             2014                 7             2018.0                 1.0  \n",
       "3             2013                 2                NaN                 NaN  \n",
       "4             2014                10                NaN                 NaN  "
      ]
     },
     "execution_count": 5,
     "metadata": {},
     "output_type": "execute_result"
    }
   ],
   "source": [
    "df_loyalty_history = pd.read_csv('./files/Customer Loyalty History.csv')\n",
    "df_loyalty_history.head()"
   ]
  },
  {
   "cell_type": "markdown",
   "metadata": {},
   "source": [
    "- **Exploración y limpieza de datos**"
   ]
  },
  {
   "cell_type": "code",
   "execution_count": 6,
   "metadata": {},
   "outputs": [
    {
     "name": "stdout",
     "output_type": "stream",
     "text": [
      "<class 'pandas.core.frame.DataFrame'>\n",
      "RangeIndex: 405624 entries, 0 to 405623\n",
      "Data columns (total 10 columns):\n",
      " #   Column                       Non-Null Count   Dtype  \n",
      "---  ------                       --------------   -----  \n",
      " 0   Loyalty Number               405624 non-null  int64  \n",
      " 1   Year                         405624 non-null  int64  \n",
      " 2   Month                        405624 non-null  int64  \n",
      " 3   Flights Booked               405624 non-null  int64  \n",
      " 4   Flights with Companions      405624 non-null  int64  \n",
      " 5   Total Flights                405624 non-null  int64  \n",
      " 6   Distance                     405624 non-null  int64  \n",
      " 7   Points Accumulated           405624 non-null  float64\n",
      " 8   Points Redeemed              405624 non-null  int64  \n",
      " 9   Dollar Cost Points Redeemed  405624 non-null  int64  \n",
      "dtypes: float64(1), int64(9)\n",
      "memory usage: 30.9 MB\n"
     ]
    }
   ],
   "source": [
    "df_flight_activity.info()"
   ]
  },
  {
   "cell_type": "code",
   "execution_count": 7,
   "metadata": {},
   "outputs": [
    {
     "name": "stdout",
     "output_type": "stream",
     "text": [
      "<class 'pandas.core.frame.DataFrame'>\n",
      "RangeIndex: 16737 entries, 0 to 16736\n",
      "Data columns (total 16 columns):\n",
      " #   Column              Non-Null Count  Dtype  \n",
      "---  ------              --------------  -----  \n",
      " 0   Loyalty Number      16737 non-null  int64  \n",
      " 1   Country             16737 non-null  object \n",
      " 2   Province            16737 non-null  object \n",
      " 3   City                16737 non-null  object \n",
      " 4   Postal Code         16737 non-null  object \n",
      " 5   Gender              16737 non-null  object \n",
      " 6   Education           16737 non-null  object \n",
      " 7   Salary              12499 non-null  float64\n",
      " 8   Marital Status      16737 non-null  object \n",
      " 9   Loyalty Card        16737 non-null  object \n",
      " 10  CLV                 16737 non-null  float64\n",
      " 11  Enrollment Type     16737 non-null  object \n",
      " 12  Enrollment Year     16737 non-null  int64  \n",
      " 13  Enrollment Month    16737 non-null  int64  \n",
      " 14  Cancellation Year   2067 non-null   float64\n",
      " 15  Cancellation Month  2067 non-null   float64\n",
      "dtypes: float64(4), int64(3), object(9)\n",
      "memory usage: 2.0+ MB\n"
     ]
    }
   ],
   "source": [
    "df_loyalty_history.info()"
   ]
  },
  {
   "cell_type": "code",
   "execution_count": 8,
   "metadata": {},
   "outputs": [
    {
     "data": {
      "text/plain": [
       "(405624, 10)"
      ]
     },
     "execution_count": 8,
     "metadata": {},
     "output_type": "execute_result"
    }
   ],
   "source": [
    "df_flight_activity.shape"
   ]
  },
  {
   "cell_type": "code",
   "execution_count": 9,
   "metadata": {},
   "outputs": [
    {
     "data": {
      "text/plain": [
       "(16737, 16)"
      ]
     },
     "execution_count": 9,
     "metadata": {},
     "output_type": "execute_result"
    }
   ],
   "source": [
    "df_loyalty_history.shape"
   ]
  },
  {
   "cell_type": "code",
   "execution_count": 10,
   "metadata": {},
   "outputs": [
    {
     "data": {
      "text/plain": [
       "np.int64(1864)"
      ]
     },
     "execution_count": 10,
     "metadata": {},
     "output_type": "execute_result"
    }
   ],
   "source": [
    "# Verificación de duplicados en el primer dataframe\n",
    "df_flight_activity.duplicated().sum()"
   ]
  },
  {
   "cell_type": "code",
   "execution_count": 11,
   "metadata": {},
   "outputs": [],
   "source": [
    "#Eliminar los duplicados    \n",
    "df_flight_activity.drop_duplicates(inplace=True)"
   ]
  },
  {
   "cell_type": "code",
   "execution_count": 12,
   "metadata": {},
   "outputs": [
    {
     "data": {
      "text/plain": [
       "np.int64(0)"
      ]
     },
     "execution_count": 12,
     "metadata": {},
     "output_type": "execute_result"
    }
   ],
   "source": [
    "#Comprobación de duplicados\n",
    "df_flight_activity.duplicated().sum()"
   ]
  },
  {
   "cell_type": "code",
   "execution_count": 13,
   "metadata": {},
   "outputs": [
    {
     "data": {
      "text/plain": [
       "np.int64(0)"
      ]
     },
     "execution_count": 13,
     "metadata": {},
     "output_type": "execute_result"
    }
   ],
   "source": [
    "# Verificación de duplicados en el segundo datraframe\n",
    "df_loyalty_history.duplicated().sum()"
   ]
  },
  {
   "cell_type": "code",
   "execution_count": 14,
   "metadata": {},
   "outputs": [
    {
     "data": {
      "text/plain": [
       "Loyalty Number                 0\n",
       "Year                           0\n",
       "Month                          0\n",
       "Flights Booked                 0\n",
       "Flights with Companions        0\n",
       "Total Flights                  0\n",
       "Distance                       0\n",
       "Points Accumulated             0\n",
       "Points Redeemed                0\n",
       "Dollar Cost Points Redeemed    0\n",
       "dtype: int64"
      ]
     },
     "execution_count": 14,
     "metadata": {},
     "output_type": "execute_result"
    }
   ],
   "source": [
    "# Verificacion de valores nulos en ambos dataframes\n",
    "df_flight_activity.isnull().sum()"
   ]
  },
  {
   "cell_type": "code",
   "execution_count": 15,
   "metadata": {},
   "outputs": [
    {
     "data": {
      "text/plain": [
       "Loyalty Number            0\n",
       "Country                   0\n",
       "Province                  0\n",
       "City                      0\n",
       "Postal Code               0\n",
       "Gender                    0\n",
       "Education                 0\n",
       "Salary                 4238\n",
       "Marital Status            0\n",
       "Loyalty Card              0\n",
       "CLV                       0\n",
       "Enrollment Type           0\n",
       "Enrollment Year           0\n",
       "Enrollment Month          0\n",
       "Cancellation Year     14670\n",
       "Cancellation Month    14670\n",
       "dtype: int64"
      ]
     },
     "execution_count": 15,
     "metadata": {},
     "output_type": "execute_result"
    }
   ],
   "source": [
    "df_loyalty_history.isnull().sum()"
   ]
  },
  {
   "cell_type": "code",
   "execution_count": 16,
   "metadata": {},
   "outputs": [],
   "source": [
    "# Los nulos de las columnas 'Cancellation Year' y 'Cancellation Month' se deben a que no se ha cancelado la membresía, \n",
    "# según los datos que nos da el enunciado, por lo que reemplazo los valores nulos por 0.\n",
    "df_loyalty_history['Cancellation Year'] = df_loyalty_history['Cancellation Year'].fillna(0)\n",
    "df_loyalty_history['Cancellation Month'] = df_loyalty_history['Cancellation Month'].fillna(0)"
   ]
  },
  {
   "cell_type": "code",
   "execution_count": 17,
   "metadata": {},
   "outputs": [
    {
     "data": {
      "text/plain": [
       "Loyalty Number           0\n",
       "Country                  0\n",
       "Province                 0\n",
       "City                     0\n",
       "Postal Code              0\n",
       "Gender                   0\n",
       "Education                0\n",
       "Salary                4238\n",
       "Marital Status           0\n",
       "Loyalty Card             0\n",
       "CLV                      0\n",
       "Enrollment Type          0\n",
       "Enrollment Year          0\n",
       "Enrollment Month         0\n",
       "Cancellation Year        0\n",
       "Cancellation Month       0\n",
       "dtype: int64"
      ]
     },
     "execution_count": 17,
     "metadata": {},
     "output_type": "execute_result"
    }
   ],
   "source": [
    "# Comprobación nulos en el segundo dataframe\n",
    "df_loyalty_history.isnull().sum()"
   ]
  },
  {
   "cell_type": "code",
   "execution_count": 18,
   "metadata": {},
   "outputs": [
    {
     "data": {
      "text/plain": [
       "np.float64(79245.6094087527)"
      ]
     },
     "execution_count": 18,
     "metadata": {},
     "output_type": "execute_result"
    }
   ],
   "source": [
    "# Comprobación de la media y la mediana de la columna 'Salary' para ver si cuál de las dos uso para imputar los nulos\n",
    "df_loyalty_history['Salary'].mean()"
   ]
  },
  {
   "cell_type": "code",
   "execution_count": 19,
   "metadata": {},
   "outputs": [
    {
     "data": {
      "text/plain": [
       "np.float64(73455.0)"
      ]
     },
     "execution_count": 19,
     "metadata": {},
     "output_type": "execute_result"
    }
   ],
   "source": [
    "df_loyalty_history['Salary'].median()"
   ]
  },
  {
   "cell_type": "code",
   "execution_count": 20,
   "metadata": {},
   "outputs": [],
   "source": [
    "# Como la media y la mediana son muy parecidas, se puede usar cualquiera de las dos para imputar los nulos\n",
    "df_loyalty_history['Salary'] = df_loyalty_history['Salary'].fillna(df_loyalty_history['Salary'].mean())"
   ]
  },
  {
   "cell_type": "code",
   "execution_count": 21,
   "metadata": {},
   "outputs": [
    {
     "data": {
      "text/plain": [
       "Loyalty Number        0\n",
       "Country               0\n",
       "Province              0\n",
       "City                  0\n",
       "Postal Code           0\n",
       "Gender                0\n",
       "Education             0\n",
       "Salary                0\n",
       "Marital Status        0\n",
       "Loyalty Card          0\n",
       "CLV                   0\n",
       "Enrollment Type       0\n",
       "Enrollment Year       0\n",
       "Enrollment Month      0\n",
       "Cancellation Year     0\n",
       "Cancellation Month    0\n",
       "dtype: int64"
      ]
     },
     "execution_count": 21,
     "metadata": {},
     "output_type": "execute_result"
    }
   ],
   "source": [
    "# Comprobación de nulos tras la imputación\n",
    "df_loyalty_history.isnull().sum()   "
   ]
  },
  {
   "cell_type": "code",
   "execution_count": 22,
   "metadata": {},
   "outputs": [
    {
     "data": {
      "text/html": [
       "<div>\n",
       "<style scoped>\n",
       "    .dataframe tbody tr th:only-of-type {\n",
       "        vertical-align: middle;\n",
       "    }\n",
       "\n",
       "    .dataframe tbody tr th {\n",
       "        vertical-align: top;\n",
       "    }\n",
       "\n",
       "    .dataframe thead th {\n",
       "        text-align: right;\n",
       "    }\n",
       "</style>\n",
       "<table border=\"1\" class=\"dataframe\">\n",
       "  <thead>\n",
       "    <tr style=\"text-align: right;\">\n",
       "      <th></th>\n",
       "      <th>Loyalty Number</th>\n",
       "      <th>Year</th>\n",
       "      <th>Month</th>\n",
       "      <th>Flights Booked</th>\n",
       "      <th>Flights with Companions</th>\n",
       "      <th>Total Flights</th>\n",
       "      <th>Distance</th>\n",
       "      <th>Points Accumulated</th>\n",
       "      <th>Points Redeemed</th>\n",
       "      <th>Dollar Cost Points Redeemed</th>\n",
       "      <th>Country</th>\n",
       "      <th>Province</th>\n",
       "      <th>City</th>\n",
       "      <th>Postal Code</th>\n",
       "      <th>Gender</th>\n",
       "      <th>Education</th>\n",
       "      <th>Salary</th>\n",
       "      <th>Marital Status</th>\n",
       "      <th>Loyalty Card</th>\n",
       "      <th>CLV</th>\n",
       "      <th>Enrollment Type</th>\n",
       "      <th>Enrollment Year</th>\n",
       "      <th>Enrollment Month</th>\n",
       "      <th>Cancellation Year</th>\n",
       "      <th>Cancellation Month</th>\n",
       "    </tr>\n",
       "  </thead>\n",
       "  <tbody>\n",
       "    <tr>\n",
       "      <th>0</th>\n",
       "      <td>100018</td>\n",
       "      <td>2017</td>\n",
       "      <td>1</td>\n",
       "      <td>3</td>\n",
       "      <td>0</td>\n",
       "      <td>3</td>\n",
       "      <td>1521</td>\n",
       "      <td>152.0</td>\n",
       "      <td>0</td>\n",
       "      <td>0</td>\n",
       "      <td>Canada</td>\n",
       "      <td>Alberta</td>\n",
       "      <td>Edmonton</td>\n",
       "      <td>T9G 1W3</td>\n",
       "      <td>Female</td>\n",
       "      <td>Bachelor</td>\n",
       "      <td>92552.000000</td>\n",
       "      <td>Married</td>\n",
       "      <td>Aurora</td>\n",
       "      <td>7919.20</td>\n",
       "      <td>Standard</td>\n",
       "      <td>2016</td>\n",
       "      <td>8</td>\n",
       "      <td>0.0</td>\n",
       "      <td>0.0</td>\n",
       "    </tr>\n",
       "    <tr>\n",
       "      <th>1</th>\n",
       "      <td>100102</td>\n",
       "      <td>2017</td>\n",
       "      <td>1</td>\n",
       "      <td>10</td>\n",
       "      <td>4</td>\n",
       "      <td>14</td>\n",
       "      <td>2030</td>\n",
       "      <td>203.0</td>\n",
       "      <td>0</td>\n",
       "      <td>0</td>\n",
       "      <td>Canada</td>\n",
       "      <td>Ontario</td>\n",
       "      <td>Toronto</td>\n",
       "      <td>M1R 4K3</td>\n",
       "      <td>Male</td>\n",
       "      <td>College</td>\n",
       "      <td>79245.609409</td>\n",
       "      <td>Single</td>\n",
       "      <td>Nova</td>\n",
       "      <td>2887.74</td>\n",
       "      <td>Standard</td>\n",
       "      <td>2013</td>\n",
       "      <td>3</td>\n",
       "      <td>0.0</td>\n",
       "      <td>0.0</td>\n",
       "    </tr>\n",
       "    <tr>\n",
       "      <th>2</th>\n",
       "      <td>100140</td>\n",
       "      <td>2017</td>\n",
       "      <td>1</td>\n",
       "      <td>6</td>\n",
       "      <td>0</td>\n",
       "      <td>6</td>\n",
       "      <td>1200</td>\n",
       "      <td>120.0</td>\n",
       "      <td>0</td>\n",
       "      <td>0</td>\n",
       "      <td>Canada</td>\n",
       "      <td>British Columbia</td>\n",
       "      <td>Dawson Creek</td>\n",
       "      <td>U5I 4F1</td>\n",
       "      <td>Female</td>\n",
       "      <td>College</td>\n",
       "      <td>79245.609409</td>\n",
       "      <td>Divorced</td>\n",
       "      <td>Nova</td>\n",
       "      <td>2838.07</td>\n",
       "      <td>Standard</td>\n",
       "      <td>2016</td>\n",
       "      <td>7</td>\n",
       "      <td>0.0</td>\n",
       "      <td>0.0</td>\n",
       "    </tr>\n",
       "    <tr>\n",
       "      <th>3</th>\n",
       "      <td>100214</td>\n",
       "      <td>2017</td>\n",
       "      <td>1</td>\n",
       "      <td>0</td>\n",
       "      <td>0</td>\n",
       "      <td>0</td>\n",
       "      <td>0</td>\n",
       "      <td>0.0</td>\n",
       "      <td>0</td>\n",
       "      <td>0</td>\n",
       "      <td>Canada</td>\n",
       "      <td>British Columbia</td>\n",
       "      <td>Vancouver</td>\n",
       "      <td>V5R 1W3</td>\n",
       "      <td>Male</td>\n",
       "      <td>Bachelor</td>\n",
       "      <td>63253.000000</td>\n",
       "      <td>Married</td>\n",
       "      <td>Star</td>\n",
       "      <td>4170.57</td>\n",
       "      <td>Standard</td>\n",
       "      <td>2015</td>\n",
       "      <td>8</td>\n",
       "      <td>0.0</td>\n",
       "      <td>0.0</td>\n",
       "    </tr>\n",
       "    <tr>\n",
       "      <th>4</th>\n",
       "      <td>100272</td>\n",
       "      <td>2017</td>\n",
       "      <td>1</td>\n",
       "      <td>0</td>\n",
       "      <td>0</td>\n",
       "      <td>0</td>\n",
       "      <td>0</td>\n",
       "      <td>0.0</td>\n",
       "      <td>0</td>\n",
       "      <td>0</td>\n",
       "      <td>Canada</td>\n",
       "      <td>Ontario</td>\n",
       "      <td>Toronto</td>\n",
       "      <td>P1L 8X8</td>\n",
       "      <td>Female</td>\n",
       "      <td>Bachelor</td>\n",
       "      <td>91163.000000</td>\n",
       "      <td>Divorced</td>\n",
       "      <td>Star</td>\n",
       "      <td>6622.05</td>\n",
       "      <td>Standard</td>\n",
       "      <td>2014</td>\n",
       "      <td>1</td>\n",
       "      <td>0.0</td>\n",
       "      <td>0.0</td>\n",
       "    </tr>\n",
       "    <tr>\n",
       "      <th>...</th>\n",
       "      <td>...</td>\n",
       "      <td>...</td>\n",
       "      <td>...</td>\n",
       "      <td>...</td>\n",
       "      <td>...</td>\n",
       "      <td>...</td>\n",
       "      <td>...</td>\n",
       "      <td>...</td>\n",
       "      <td>...</td>\n",
       "      <td>...</td>\n",
       "      <td>...</td>\n",
       "      <td>...</td>\n",
       "      <td>...</td>\n",
       "      <td>...</td>\n",
       "      <td>...</td>\n",
       "      <td>...</td>\n",
       "      <td>...</td>\n",
       "      <td>...</td>\n",
       "      <td>...</td>\n",
       "      <td>...</td>\n",
       "      <td>...</td>\n",
       "      <td>...</td>\n",
       "      <td>...</td>\n",
       "      <td>...</td>\n",
       "      <td>...</td>\n",
       "    </tr>\n",
       "    <tr>\n",
       "      <th>403755</th>\n",
       "      <td>999902</td>\n",
       "      <td>2018</td>\n",
       "      <td>12</td>\n",
       "      <td>0</td>\n",
       "      <td>0</td>\n",
       "      <td>0</td>\n",
       "      <td>0</td>\n",
       "      <td>0.0</td>\n",
       "      <td>0</td>\n",
       "      <td>0</td>\n",
       "      <td>Canada</td>\n",
       "      <td>Ontario</td>\n",
       "      <td>Toronto</td>\n",
       "      <td>M1R 4K3</td>\n",
       "      <td>Male</td>\n",
       "      <td>College</td>\n",
       "      <td>79245.609409</td>\n",
       "      <td>Married</td>\n",
       "      <td>Aurora</td>\n",
       "      <td>7290.07</td>\n",
       "      <td>Standard</td>\n",
       "      <td>2014</td>\n",
       "      <td>5</td>\n",
       "      <td>0.0</td>\n",
       "      <td>0.0</td>\n",
       "    </tr>\n",
       "    <tr>\n",
       "      <th>403756</th>\n",
       "      <td>999911</td>\n",
       "      <td>2018</td>\n",
       "      <td>12</td>\n",
       "      <td>0</td>\n",
       "      <td>0</td>\n",
       "      <td>0</td>\n",
       "      <td>0</td>\n",
       "      <td>0.0</td>\n",
       "      <td>0</td>\n",
       "      <td>0</td>\n",
       "      <td>Canada</td>\n",
       "      <td>Newfoundland</td>\n",
       "      <td>St. John's</td>\n",
       "      <td>A1C 6H9</td>\n",
       "      <td>Male</td>\n",
       "      <td>Doctor</td>\n",
       "      <td>217943.000000</td>\n",
       "      <td>Single</td>\n",
       "      <td>Nova</td>\n",
       "      <td>8564.77</td>\n",
       "      <td>Standard</td>\n",
       "      <td>2012</td>\n",
       "      <td>8</td>\n",
       "      <td>0.0</td>\n",
       "      <td>0.0</td>\n",
       "    </tr>\n",
       "    <tr>\n",
       "      <th>403757</th>\n",
       "      <td>999940</td>\n",
       "      <td>2018</td>\n",
       "      <td>12</td>\n",
       "      <td>3</td>\n",
       "      <td>0</td>\n",
       "      <td>3</td>\n",
       "      <td>1233</td>\n",
       "      <td>123.0</td>\n",
       "      <td>0</td>\n",
       "      <td>0</td>\n",
       "      <td>Canada</td>\n",
       "      <td>Quebec</td>\n",
       "      <td>Quebec City</td>\n",
       "      <td>G1B 3L5</td>\n",
       "      <td>Female</td>\n",
       "      <td>Bachelor</td>\n",
       "      <td>47670.000000</td>\n",
       "      <td>Married</td>\n",
       "      <td>Nova</td>\n",
       "      <td>20266.50</td>\n",
       "      <td>Standard</td>\n",
       "      <td>2017</td>\n",
       "      <td>7</td>\n",
       "      <td>0.0</td>\n",
       "      <td>0.0</td>\n",
       "    </tr>\n",
       "    <tr>\n",
       "      <th>403758</th>\n",
       "      <td>999982</td>\n",
       "      <td>2018</td>\n",
       "      <td>12</td>\n",
       "      <td>0</td>\n",
       "      <td>0</td>\n",
       "      <td>0</td>\n",
       "      <td>0</td>\n",
       "      <td>0.0</td>\n",
       "      <td>0</td>\n",
       "      <td>0</td>\n",
       "      <td>Canada</td>\n",
       "      <td>British Columbia</td>\n",
       "      <td>Victoria</td>\n",
       "      <td>V10 6T5</td>\n",
       "      <td>Male</td>\n",
       "      <td>College</td>\n",
       "      <td>79245.609409</td>\n",
       "      <td>Married</td>\n",
       "      <td>Star</td>\n",
       "      <td>2631.56</td>\n",
       "      <td>Standard</td>\n",
       "      <td>2018</td>\n",
       "      <td>7</td>\n",
       "      <td>0.0</td>\n",
       "      <td>0.0</td>\n",
       "    </tr>\n",
       "    <tr>\n",
       "      <th>403759</th>\n",
       "      <td>999986</td>\n",
       "      <td>2018</td>\n",
       "      <td>12</td>\n",
       "      <td>0</td>\n",
       "      <td>0</td>\n",
       "      <td>0</td>\n",
       "      <td>0</td>\n",
       "      <td>0.0</td>\n",
       "      <td>0</td>\n",
       "      <td>0</td>\n",
       "      <td>Canada</td>\n",
       "      <td>Ontario</td>\n",
       "      <td>Ottawa</td>\n",
       "      <td>K1F 2R2</td>\n",
       "      <td>Female</td>\n",
       "      <td>Bachelor</td>\n",
       "      <td>46594.000000</td>\n",
       "      <td>Married</td>\n",
       "      <td>Nova</td>\n",
       "      <td>8257.01</td>\n",
       "      <td>2018 Promotion</td>\n",
       "      <td>2018</td>\n",
       "      <td>2</td>\n",
       "      <td>0.0</td>\n",
       "      <td>0.0</td>\n",
       "    </tr>\n",
       "  </tbody>\n",
       "</table>\n",
       "<p>403760 rows × 25 columns</p>\n",
       "</div>"
      ],
      "text/plain": [
       "        Loyalty Number  Year  Month  Flights Booked  Flights with Companions  \\\n",
       "0               100018  2017      1               3                        0   \n",
       "1               100102  2017      1              10                        4   \n",
       "2               100140  2017      1               6                        0   \n",
       "3               100214  2017      1               0                        0   \n",
       "4               100272  2017      1               0                        0   \n",
       "...                ...   ...    ...             ...                      ...   \n",
       "403755          999902  2018     12               0                        0   \n",
       "403756          999911  2018     12               0                        0   \n",
       "403757          999940  2018     12               3                        0   \n",
       "403758          999982  2018     12               0                        0   \n",
       "403759          999986  2018     12               0                        0   \n",
       "\n",
       "        Total Flights  Distance  Points Accumulated  Points Redeemed  \\\n",
       "0                   3      1521               152.0                0   \n",
       "1                  14      2030               203.0                0   \n",
       "2                   6      1200               120.0                0   \n",
       "3                   0         0                 0.0                0   \n",
       "4                   0         0                 0.0                0   \n",
       "...               ...       ...                 ...              ...   \n",
       "403755              0         0                 0.0                0   \n",
       "403756              0         0                 0.0                0   \n",
       "403757              3      1233               123.0                0   \n",
       "403758              0         0                 0.0                0   \n",
       "403759              0         0                 0.0                0   \n",
       "\n",
       "        Dollar Cost Points Redeemed Country          Province          City  \\\n",
       "0                                 0  Canada           Alberta      Edmonton   \n",
       "1                                 0  Canada           Ontario       Toronto   \n",
       "2                                 0  Canada  British Columbia  Dawson Creek   \n",
       "3                                 0  Canada  British Columbia     Vancouver   \n",
       "4                                 0  Canada           Ontario       Toronto   \n",
       "...                             ...     ...               ...           ...   \n",
       "403755                            0  Canada           Ontario       Toronto   \n",
       "403756                            0  Canada      Newfoundland    St. John's   \n",
       "403757                            0  Canada            Quebec   Quebec City   \n",
       "403758                            0  Canada  British Columbia      Victoria   \n",
       "403759                            0  Canada           Ontario        Ottawa   \n",
       "\n",
       "       Postal Code  Gender Education         Salary Marital Status  \\\n",
       "0          T9G 1W3  Female  Bachelor   92552.000000        Married   \n",
       "1          M1R 4K3    Male   College   79245.609409         Single   \n",
       "2          U5I 4F1  Female   College   79245.609409       Divorced   \n",
       "3          V5R 1W3    Male  Bachelor   63253.000000        Married   \n",
       "4          P1L 8X8  Female  Bachelor   91163.000000       Divorced   \n",
       "...            ...     ...       ...            ...            ...   \n",
       "403755     M1R 4K3    Male   College   79245.609409        Married   \n",
       "403756     A1C 6H9    Male    Doctor  217943.000000         Single   \n",
       "403757     G1B 3L5  Female  Bachelor   47670.000000        Married   \n",
       "403758     V10 6T5    Male   College   79245.609409        Married   \n",
       "403759     K1F 2R2  Female  Bachelor   46594.000000        Married   \n",
       "\n",
       "       Loyalty Card       CLV Enrollment Type  Enrollment Year  \\\n",
       "0            Aurora   7919.20        Standard             2016   \n",
       "1              Nova   2887.74        Standard             2013   \n",
       "2              Nova   2838.07        Standard             2016   \n",
       "3              Star   4170.57        Standard             2015   \n",
       "4              Star   6622.05        Standard             2014   \n",
       "...             ...       ...             ...              ...   \n",
       "403755       Aurora   7290.07        Standard             2014   \n",
       "403756         Nova   8564.77        Standard             2012   \n",
       "403757         Nova  20266.50        Standard             2017   \n",
       "403758         Star   2631.56        Standard             2018   \n",
       "403759         Nova   8257.01  2018 Promotion             2018   \n",
       "\n",
       "        Enrollment Month  Cancellation Year  Cancellation Month  \n",
       "0                      8                0.0                 0.0  \n",
       "1                      3                0.0                 0.0  \n",
       "2                      7                0.0                 0.0  \n",
       "3                      8                0.0                 0.0  \n",
       "4                      1                0.0                 0.0  \n",
       "...                  ...                ...                 ...  \n",
       "403755                 5                0.0                 0.0  \n",
       "403756                 8                0.0                 0.0  \n",
       "403757                 7                0.0                 0.0  \n",
       "403758                 7                0.0                 0.0  \n",
       "403759                 2                0.0                 0.0  \n",
       "\n",
       "[403760 rows x 25 columns]"
      ]
     },
     "execution_count": 22,
     "metadata": {},
     "output_type": "execute_result"
    }
   ],
   "source": [
    "# Unión de ambos dataframes mediante un merge con left join, ya que quiero todos los datos del primer dataframe\n",
    "df = pd.merge(df_flight_activity, df_loyalty_history, on='Loyalty Number', how='left')\n",
    "df"
   ]
  },
  {
   "cell_type": "code",
   "execution_count": 23,
   "metadata": {},
   "outputs": [],
   "source": [
    "# Guardar el dataframe limpio en un archivo csv\n",
    "df.to_csv('./files/df_limpio.csv', index=False)"
   ]
  },
  {
   "cell_type": "code",
   "execution_count": null,
   "metadata": {},
   "outputs": [
    {
     "data": {
      "text/plain": [
       "Loyalty Number                   int64\n",
       "Year                             int64\n",
       "Month                            int64\n",
       "Flights Booked                   int64\n",
       "Flights with Companions          int64\n",
       "Total Flights                    int64\n",
       "Distance                         int64\n",
       "Points Accumulated             float64\n",
       "Points Redeemed                  int64\n",
       "Dollar Cost Points Redeemed      int64\n",
       "Country                         object\n",
       "Province                        object\n",
       "City                            object\n",
       "Postal Code                     object\n",
       "Gender                          object\n",
       "Education                       object\n",
       "Salary                         float64\n",
       "Marital Status                  object\n",
       "Loyalty Card                    object\n",
       "CLV                            float64\n",
       "Enrollment Type                 object\n",
       "Enrollment Year                  int64\n",
       "Enrollment Month                 int64\n",
       "Cancellation Year              float64\n",
       "Cancellation Month             float64\n",
       "dtype: object"
      ]
     },
     "execution_count": 24,
     "metadata": {},
     "output_type": "execute_result"
    }
   ],
   "source": [
    "#Comprobación de los tipos de datos, para ver si hay que cambiar alguno\n",
    "df.dtypes"
   ]
  },
  {
   "cell_type": "code",
   "execution_count": 28,
   "metadata": {},
   "outputs": [
    {
     "name": "stdout",
     "output_type": "stream",
     "text": [
      "Loyalty Number\n",
      "[100018 100102 100140 ... 999731 999788 999891]\n",
      "-----------------------------------\n",
      "Year\n",
      "[2017 2018]\n",
      "-----------------------------------\n",
      "Month\n",
      "[ 1  9  2  3 11  4  5  7  6  8 10 12]\n",
      "-----------------------------------\n",
      "Flights Booked\n",
      "[ 3 10  6  0  8 11  9  4  7  5  2  1 12 13 14 16 15 17 18 19 20 21]\n",
      "-----------------------------------\n",
      "Flights with Companions\n",
      "[ 0  4  7  1  6  3  5  2 10  8  9 11]\n",
      "-----------------------------------\n",
      "Total Flights\n",
      "[ 3 14  6  0 15 11 12 10  8  9  7  5 16  2  1 17 13 22  4 19 18 21 26 20\n",
      " 23 25 27 24 28 30 29 31 32]\n",
      "-----------------------------------\n",
      "Distance\n",
      "[1521 2030 1200 ... 1217  617 4135]\n",
      "-----------------------------------\n",
      "Points Accumulated\n",
      "[152.   203.   120.   ...  18.75 601.   626.  ]\n",
      "-----------------------------------\n",
      "Points Redeemed\n",
      "[  0 341 364 310 445 312 343 366 389 292 447 324 456 409 436 327 322 291\n",
      " 323 300 290 309 325 386 321 363 340 670 443 517 444 328 344 367 313 333\n",
      " 293 449 297 455 372 356 405 381 466 419 369 352 482 335 329 305 415 396\n",
      " 317 348 314 334 350 330 318 298 420 336 471 680 441 353 484 301 374 417\n",
      " 501 299 398 307 368 306 347 439 395 481 337 382 426 373 399 424 326 392\n",
      " 438 467 480 448 308 400 376 375 460 339 385 611 431 320 362 404 442 410\n",
      " 361 319 435 414 464 477 315 485 370 421 349 371 416 496 510 667 465 434\n",
      " 346 487 408 500 360 378 345 358 479 380 411 491 505 446 425 476 393 418\n",
      " 332 401 454 303 594 506 355 302 403 379 437 561 483 597 391 562 342 407\n",
      " 490 468 488 457 365 357 463 388 413 351 462 440 493 507 338 377 428 525\n",
      " 390 473 359 423 519 453 522 429 450 383 469 402 354 422 458 384 656 461\n",
      " 427 478 523 719 538 515 394 472 433 387 540 530 498 512 452 311 470 541\n",
      " 331 570 527 658 494 638 486 509 316 492 536 502 551 504 304 296 294 495\n",
      " 432 526 459 589 529 586 537 503 552 779 516 639 474 547 542 557 406 563\n",
      " 511 518 532 553 508 560 676 716 593 513 499 566 497 546 451 533 489 708\n",
      " 531 567 521 412 430 610 528 556 582 720 397 578 772 571 534 539 576 585\n",
      " 520 601 598 630 524 588 550 514 573 544 669 577 580 591 614 574 579 595\n",
      " 618 776 548 602 543 581 572 607 603 564 620 615 636 575 584 559 648 590\n",
      " 545 627 608 568 625 637 632 650 600 613 621 535 587 475 592 624 619 554\n",
      " 583 628 558 664 789 635 617 699 604 646 659 616 704 569 626 609 751 599\n",
      " 644 800 677 666 596 612 629 657 675 702 683 633 811 688 565 706 605 549\n",
      " 662 660 295 673 555 631 715 651 697 792 678 655 707 668 687 622 642 781\n",
      " 695 711 701 721 623 693 692 640 665 684 745 808 746 749 694 643 725 850\n",
      " 703 726 691 740 737 689 765 649 690 661 696 682 700 750 771 798 710 736\n",
      " 757 743 654 758 647 606 718 739 814 761 783 679 766 777 799 723 653 730\n",
      " 681 760 793 742 685 734 839 782 735 756 795 728 780 802 815 851 820 770\n",
      " 705 738 645 686 755 754 778 671 634 762 784 717 797 744 672 768 790 741\n",
      " 824 748 674 825 794 845 827 801 714 731 724 876 747 663 709 823 791 804\n",
      " 832 698 727 833 810 864 753 840 722 641 822 834 844 865 869 733 828 773\n",
      " 713 821 849 767 759 729 803 838 775 818 843 830 847 872 809 786 812 785\n",
      " 841 752 712 816 289 652 787 852 848 769 846 870 871 796 807 774 805 763\n",
      " 806 836 837 857 813 873 732 826 858 817 829 819 866 842 861 855 831 875\n",
      " 868 835 764 862 874 860 863 854 788 867 859]\n",
      "-----------------------------------\n",
      "Dollar Cost Points Redeemed\n",
      "[ 0 28 30 25 36 32 24 26 37 33 35 27 31 54 42 29 38 34 39 55 41 49 40 48\n",
      " 45 53 58 44 43 46 52 47 63 57 62 51 50 64 56 61 65 60 68 59 66 69 67 71\n",
      " 70]\n",
      "-----------------------------------\n",
      "Country\n",
      "['Canada']\n",
      "-----------------------------------\n",
      "Province\n",
      "['Alberta' 'Ontario' 'British Columbia' 'Saskatchewan' 'Quebec'\n",
      " 'Newfoundland' 'Manitoba' 'New Brunswick' 'Nova Scotia'\n",
      " 'Prince Edward Island' 'Yukon']\n",
      "-----------------------------------\n",
      "City\n",
      "['Edmonton' 'Toronto' 'Dawson Creek' 'Vancouver' 'Regina' 'Montreal'\n",
      " 'Sudbury' 'Quebec City' 'Peace River' \"St. John's\" 'Tremblant' 'Ottawa'\n",
      " 'Trenton' 'Winnipeg' 'Thunder Bay' 'West Vancouver' 'Fredericton'\n",
      " 'London' 'Halifax' 'Moncton' 'Banff' 'Kingston' 'Whistler'\n",
      " 'Charlottetown' 'Hull' 'Victoria' 'Calgary' 'Kelowna' 'Whitehorse']\n",
      "-----------------------------------\n",
      "Postal Code\n",
      "['T9G 1W3' 'M1R 4K3' 'U5I 4F1' 'V5R 1W3' 'P1L 8X8' 'P1J 8T7' 'S6J 3G0'\n",
      " 'H2T 9K8' 'V6E 3D9' 'M5V 1G5' 'H2Y 4R4' 'M8Y 4K8' 'V6E 3Z3' 'G1B 3L5'\n",
      " 'T9O 2W2' 'A1C 6H9' 'H5Y 2S9' 'K1F 2R2' 'K8V 4B2' 'R3R 3T4' 'P1W 1K4'\n",
      " 'K8T 5M5' 'V6V 8Z3' 'M2M 7K8' 'E3B 2H2' 'M5B 3E4' 'H2Y 2W2' 'P5S 6R4'\n",
      " 'P2T 6G3' 'B3J 9S2' 'B3C 2M8' 'H4G 3T4' 'R6Y 4T5' 'H2T 2J6' 'M2Z 4K1'\n",
      " 'S1J 3C5' 'E1A 2A7' 'V1E 4R6' 'T4V 1D4' 'M9K 2P4' 'R2C 0M5' 'T3G 6Y6'\n",
      " 'M2M 6J7' 'V6T 1Y8' 'C1A 6E8' 'J8Y 3Z5' 'V10 6T5' 'H3T 8L4' 'T3E 2V9'\n",
      " 'V09 2E9' 'Y2K 6R0' 'K1G 4Z0' 'M2P 4F6' 'M3R 4K8' 'H3J 5I6']\n",
      "-----------------------------------\n",
      "Gender\n",
      "['Female' 'Male']\n",
      "-----------------------------------\n",
      "Education\n",
      "['Bachelor' 'College' 'Master' 'High School or Below' 'Doctor']\n",
      "-----------------------------------\n",
      "Salary\n",
      "[92552.         79245.60940875 63253.         ... 23160.\n",
      " 97206.         56345.        ]\n",
      "-----------------------------------\n",
      "Marital Status\n",
      "['Married' 'Single' 'Divorced']\n",
      "-----------------------------------\n",
      "Loyalty Card\n",
      "['Aurora' 'Nova' 'Star']\n",
      "-----------------------------------\n",
      "CLV\n",
      "[7919.2  2887.74 2838.07 ... 6990.69 3151.16 8409.07]\n",
      "-----------------------------------\n",
      "Enrollment Type\n",
      "['Standard' '2018 Promotion']\n",
      "-----------------------------------\n",
      "Enrollment Year\n",
      "[2016 2013 2015 2014 2012 2017 2018]\n",
      "-----------------------------------\n",
      "Enrollment Month\n",
      "[ 8  3  7  1  9  5 10  2  4  6 11 12]\n",
      "-----------------------------------\n",
      "Cancellation Year\n",
      "[   0. 2018. 2015. 2016. 2014. 2013. 2017.]\n",
      "-----------------------------------\n",
      "Cancellation Month\n",
      "[ 0.  3.  9.  2.  7.  6.  8.  4.  1.  5. 11. 12. 10.]\n",
      "-----------------------------------\n"
     ]
    }
   ],
   "source": [
    "# Vemos los valores unicos de todas las columnas para ver si hay valores que no corresponden con el tipo de dato que deberian tener\n",
    "for column in df.columns:\n",
    "    print(column)\n",
    "    print(df[column].unique())\n",
    "    print('-----------------------------------')"
   ]
  },
  {
   "cell_type": "code",
   "execution_count": 29,
   "metadata": {},
   "outputs": [],
   "source": [
    "# Cambio del tipo de dato de las columnas 'Cancellation Year' y 'Cancellation Month' a int\n",
    "df['Cancellation Year'] = df['Cancellation Year'].astype(int)\n",
    "df['Cancellation Month'] = df['Cancellation Month'].astype(int)"
   ]
  },
  {
   "cell_type": "code",
   "execution_count": 30,
   "metadata": {},
   "outputs": [
    {
     "data": {
      "text/plain": [
       "Loyalty Number                   int64\n",
       "Year                             int64\n",
       "Month                            int64\n",
       "Flights Booked                   int64\n",
       "Flights with Companions          int64\n",
       "Total Flights                    int64\n",
       "Distance                         int64\n",
       "Points Accumulated             float64\n",
       "Points Redeemed                  int64\n",
       "Dollar Cost Points Redeemed      int64\n",
       "Country                         object\n",
       "Province                        object\n",
       "City                            object\n",
       "Postal Code                     object\n",
       "Gender                          object\n",
       "Education                       object\n",
       "Salary                         float64\n",
       "Marital Status                  object\n",
       "Loyalty Card                    object\n",
       "CLV                            float64\n",
       "Enrollment Type                 object\n",
       "Enrollment Year                  int64\n",
       "Enrollment Month                 int64\n",
       "Cancellation Year                int64\n",
       "Cancellation Month               int64\n",
       "dtype: object"
      ]
     },
     "execution_count": 30,
     "metadata": {},
     "output_type": "execute_result"
    }
   ],
   "source": [
    "# Comprobación de los cambios\n",
    "df.dtypes"
   ]
  },
  {
   "cell_type": "code",
   "execution_count": 33,
   "metadata": {},
   "outputs": [
    {
     "data": {
      "text/plain": [
       "Loyalty Number                 0\n",
       "Year                           0\n",
       "Month                          0\n",
       "Flights Booked                 0\n",
       "Flights with Companions        0\n",
       "Total Flights                  0\n",
       "Distance                       0\n",
       "Points Accumulated             0\n",
       "Points Redeemed                0\n",
       "Dollar Cost Points Redeemed    0\n",
       "Country                        0\n",
       "Province                       0\n",
       "City                           0\n",
       "Postal Code                    0\n",
       "Gender                         0\n",
       "Education                      0\n",
       "Salary                         0\n",
       "Marital Status                 0\n",
       "Loyalty Card                   0\n",
       "CLV                            0\n",
       "Enrollment Type                0\n",
       "Enrollment Year                0\n",
       "Enrollment Month               0\n",
       "Cancellation Year              0\n",
       "Cancellation Month             0\n",
       "dtype: int64"
      ]
     },
     "execution_count": 33,
     "metadata": {},
     "output_type": "execute_result"
    }
   ],
   "source": [
    "#comprobar si quedan nulos\n",
    "df.isnull().sum()"
   ]
  },
  {
   "cell_type": "code",
   "execution_count": 37,
   "metadata": {},
   "outputs": [],
   "source": [
    "#Guardar el dataframe con los cambios\n",
    "df.to_csv('./files/df_limpio.csv', index=False)"
   ]
  },
  {
   "cell_type": "markdown",
   "metadata": {},
   "source": [
    "- **Visualización**"
   ]
  },
  {
   "cell_type": "markdown",
   "metadata": {},
   "source": [
    "1.  ¿Cómo se distribuye la cantidad de vuelos reservados por mes durante el año?"
   ]
  },
  {
   "cell_type": "code",
   "execution_count": 50,
   "metadata": {},
   "outputs": [
    {
     "data": {
      "image/png": "[encoded data removed]",
      "text/plain": [
       "<Figure size 1000x500 with 1 Axes>"
      ]
     },
     "metadata": {},
     "output_type": "display_data"
    }
   ],
   "source": [
    "# Realización de un lineplot para ver la distribución de los vuelos por mes\n",
    "plt.figure(figsize=(10, 5))\n",
    "sns.lineplot(x=\"Month\", y=\"Flights Booked\", data=df, color=\"purple\")\n",
    "plt.xticks(range(1, 13))  # Para que se muestren todos lo meses en el eje x, numerados del 1-12\n",
    "plt.xlabel(\"Mes\")\n",
    "plt.ylabel(\"Vuelos reservados\")\n",
    "plt.title(\"Distribución de vuelos reservados por mes\");"
   ]
  },
  {
   "cell_type": "markdown",
   "metadata": {},
   "source": [
    "2. ¿Existe una relación entre la distancia de los vuelos y los puntos acumulados por los clientes?"
   ]
  },
  {
   "cell_type": "code",
   "execution_count": 57,
   "metadata": {},
   "outputs": [
    {
     "data": {
      "image/png": "[encoded data removed]",
      "text/plain": [
       "<Figure size 1000x500 with 1 Axes>"
      ]
     },
     "metadata": {},
     "output_type": "display_data"
    }
   ],
   "source": [
    "# Realización de un gráfico de dispersión con la línea de regresión para que sea fácil leerlo\n",
    "plt.figure(figsize=(10, 5))\n",
    "sns.scatterplot(x=\"Distance\", y=\"Points Accumulated\", data=df, color=\"violet\")\n",
    "sns.regplot(x=\"Distance\", y=\"Points Accumulated\", data=df, scatter=False, color=\"orange\")  # Línea de regresión\n",
    "plt.xlabel(\"Distancia Volada\")\n",
    "plt.ylabel(\"Puntos Acumulados\")\n",
    "plt.title(\"Relación entre distancia volada y puntos acumulados\")\n",
    "plt.grid(True);\n"
   ]
  },
  {
   "cell_type": "markdown",
   "metadata": {},
   "source": [
    "Se puede determinar una relación directa entre la distancia y los puntos acumulados, a mayor distancia volada más puntos acumulados."
   ]
  },
  {
   "cell_type": "markdown",
   "metadata": {},
   "source": [
    "3. ¿Cuál es la distribución de los clientes por provincia o estado?\n"
   ]
  },
  {
   "cell_type": "code",
   "execution_count": 75,
   "metadata": {},
   "outputs": [
    {
     "data": {
      "image/png": "[encoded data removed]",
      "text/plain": [
       "<Figure size 1200x600 with 1 Axes>"
      ]
     },
     "metadata": {},
     "output_type": "display_data"
    }
   ],
   "source": [
    "# Primero contamos los clientes por provincia\n",
    "clientes_provincia = df[\"Province\"].value_counts().reset_index()\n",
    "clientes_provincia.columns = [\"Province\", \"Número de clientes\"]\n",
    "\n",
    "plt.figure(figsize=(12, 6))\n",
    "sns.barplot(x=\"Número de clientes\", y=\"Province\", data=clientes_provincia)\n",
    "plt.xlabel(\"Número de clientes\")\n",
    "plt.ylabel(\"Provincia\")\n",
    "plt.title(\"Distribución de clientes por provincia\");"
   ]
  },
  {
   "cell_type": "markdown",
   "metadata": {},
   "source": [
    "4. ¿Cómo se compara el salario promedio entre los diferentes niveles educativos de los clientes?"
   ]
  },
  {
   "cell_type": "code",
   "execution_count": 64,
   "metadata": {},
   "outputs": [
    {
     "data": {
      "text/html": [
       "<div>\n",
       "<style scoped>\n",
       "    .dataframe tbody tr th:only-of-type {\n",
       "        vertical-align: middle;\n",
       "    }\n",
       "\n",
       "    .dataframe tbody tr th {\n",
       "        vertical-align: top;\n",
       "    }\n",
       "\n",
       "    .dataframe thead th {\n",
       "        text-align: right;\n",
       "    }\n",
       "</style>\n",
       "<table border=\"1\" class=\"dataframe\">\n",
       "  <thead>\n",
       "    <tr style=\"text-align: right;\">\n",
       "      <th></th>\n",
       "      <th>Education</th>\n",
       "      <th>Salary</th>\n",
       "    </tr>\n",
       "  </thead>\n",
       "  <tbody>\n",
       "    <tr>\n",
       "      <th>0</th>\n",
       "      <td>Bachelor</td>\n",
       "      <td>72473.471154</td>\n",
       "    </tr>\n",
       "    <tr>\n",
       "      <th>1</th>\n",
       "      <td>College</td>\n",
       "      <td>79245.609409</td>\n",
       "    </tr>\n",
       "    <tr>\n",
       "      <th>2</th>\n",
       "      <td>Doctor</td>\n",
       "      <td>178403.675202</td>\n",
       "    </tr>\n",
       "    <tr>\n",
       "      <th>3</th>\n",
       "      <td>High School or Below</td>\n",
       "      <td>61019.926143</td>\n",
       "    </tr>\n",
       "    <tr>\n",
       "      <th>4</th>\n",
       "      <td>Master</td>\n",
       "      <td>103734.523724</td>\n",
       "    </tr>\n",
       "  </tbody>\n",
       "</table>\n",
       "</div>"
      ],
      "text/plain": [
       "              Education         Salary\n",
       "0              Bachelor   72473.471154\n",
       "1               College   79245.609409\n",
       "2                Doctor  178403.675202\n",
       "3  High School or Below   61019.926143\n",
       "4                Master  103734.523724"
      ]
     },
     "execution_count": 64,
     "metadata": {},
     "output_type": "execute_result"
    }
   ],
   "source": [
    "# Primero calculo la media del salario por nivel educativo\n",
    "salary_education = df.groupby(\"Education\")[\"Salary\"].mean().reset_index()\n",
    "salary_education"
   ]
  },
  {
   "cell_type": "code",
   "execution_count": 69,
   "metadata": {},
   "outputs": [
    {
     "data": {
      "image/png": "[encoded data removed]",
      "text/plain": [
       "<Figure size 1200x600 with 1 Axes>"
      ]
     },
     "metadata": {},
     "output_type": "display_data"
    }
   ],
   "source": [
    "# Realizo el gráfico de barras (barplot)\n",
    "plt.figure(figsize=(12, 6))\n",
    "sns.barplot(y=\"Salary\", x=\"Education\", data=salary_education, color=\"green\")\n",
    "plt.ylabel(\"Salario\")\n",
    "plt.xlabel(\"Nivel educativo\")\n",
    "plt.title(\"Salario medio por nivel educativo\");"
   ]
  },
  {
   "cell_type": "markdown",
   "metadata": {},
   "source": [
    "5. ¿Cuál es la proporción de clientes con diferentes tipos de tarjetas de fidelidad?"
   ]
  },
  {
   "cell_type": "code",
   "execution_count": 80,
   "metadata": {},
   "outputs": [
    {
     "data": {
      "image/png": "[encoded data removed]",
      "text/plain": [
       "<Figure size 800x800 with 1 Axes>"
      ]
     },
     "metadata": {},
     "output_type": "display_data"
    }
   ],
   "source": [
    "# Preparación de los datos para el gráfico\n",
    "loyalty_card_counts = df.groupby(\"Loyalty Card\")[\"Loyalty Number\"].count().reset_index()\n",
    "# Lista de colores para la representación gráfica\n",
    "colores = ['c','turquoise','cadetblue']\n",
    "# Realización del pieplot con los datos anteriores\n",
    "plt.figure(figsize=(8, 8))\n",
    "plt.pie(loyalty_card_counts[\"Loyalty Number\"], labels=loyalty_card_counts[\"Loyalty Card\"], autopct='%1.1f%%', colors=colores)\n",
    "plt.title(\"Proporción de clientes por tipo de tarjeta de fidelidad\");\n",
    "\n"
   ]
  },
  {
   "cell_type": "markdown",
   "metadata": {},
   "source": [
    "6. ¿Cómo se distribuyen los clientes según su estado civil y género?"
   ]
  },
  {
   "cell_type": "code",
   "execution_count": null,
   "metadata": {},
   "outputs": [
    {
     "data": {
      "text/plain": [
       "''"
      ]
     },
     "execution_count": 86,
     "metadata": {},
     "output_type": "execute_result"
    },
    {
     "data": {
      "image/png": "[encoded data removed]",
      "text/plain": [
       "<Figure size 1000x600 with 1 Axes>"
      ]
     },
     "metadata": {},
     "output_type": "display_data"
    }
   ],
   "source": [
    "#Uso de un countplot para ver la distribución de los clientes según su estado civil y género\n",
    "plt.figure(figsize=(10, 6))\n",
    "sns.countplot(x=\"Marital Status\", hue=\"Gender\", data=df)\n",
    "plt.xlabel(\"Estado civil\")\n",
    "plt.ylabel(\"Número de clientes\")\n",
    "plt.title(\"Distribución de clientes según su estado civil y género\");\n"
   ]
  }
 ],
 "metadata": {
  "kernelspec": {
   "display_name": "Python 3",
   "language": "python",
   "name": "python3"
  },
  "language_info": {
   "codemirror_mode": {
    "name": "ipython",
    "version": 3
   },
   "file_extension": ".py",
   "mimetype": "text/x-python",
   "name": "python",
   "nbconvert_exporter": "python",
   "pygments_lexer": "ipython3",
   "version": "3.11.9"
  }
 },
 "nbformat": 4,
 "nbformat_minor": 2
}
